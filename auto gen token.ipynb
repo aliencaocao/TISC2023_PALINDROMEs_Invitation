{
 "cells": [
  {
   "cell_type": "code",
   "execution_count": 1,
   "metadata": {
    "collapsed": true,
    "ExecuteTime": {
     "end_time": "2023-09-12T11:50:52.709668800Z",
     "start_time": "2023-09-12T11:50:52.494714400Z"
    }
   },
   "outputs": [],
   "source": [
    "import selenium\n",
    "from selenium import webdriver\n",
    "from selenium.webdriver.common.by import By\n",
    "from selenium.webdriver.support.ui import WebDriverWait\n",
    "from selenium.webdriver.support import expected_conditions as EC\n",
    "from selenium.webdriver.chrome.options import Options\n",
    "\n",
    "options = Options()\n",
    "options.add_argument('--no-sandbox')\n",
    "options.add_argument('--disable-dev-shm-usage')\n",
    "# options.add_argument('--headless')\n",
    "options.add_argument('--disable-gpu')"
   ]
  },
  {
   "cell_type": "code",
   "execution_count": 2,
   "outputs": [],
   "source": [
    "driver = webdriver.Chrome(options=options)\n",
    "driver.set_window_size(1920, 1080)"
   ],
   "metadata": {
    "collapsed": false,
    "ExecuteTime": {
     "end_time": "2023-09-12T11:50:55.529927500Z",
     "start_time": "2023-09-12T11:50:52.710669700Z"
    }
   }
  },
  {
   "cell_type": "code",
   "execution_count": 3,
   "outputs": [],
   "source": [
    "class LocalStorage:\n",
    "    def __init__(self, driver) :\n",
    "        self.driver = driver\n",
    "        self.recreate_localStorage_script = '''\n",
    "    const iframe = document.createElement('iframe');\n",
    "    document.head.append(iframe);\n",
    "    const pd = Object.getOwnPropertyDescriptor(iframe.contentWindow, 'localStorage');\n",
    "    iframe.remove();\n",
    "    Object.defineProperty(window, 'localStorage', pd);\n",
    "    '''\n",
    "        self.driver.execute_script(self.recreate_localStorage_script)\n",
    "\n",
    "    def __len__(self):\n",
    "        self.driver.execute_script(self.recreate_localStorage_script)\n",
    "        return self.driver.execute_script(\"return window.localStorage.length;\")\n",
    "\n",
    "    def items(self):\n",
    "        self.driver.execute_script(self.recreate_localStorage_script)\n",
    "        return self.driver.execute_script(\n",
    "            \"var ls = window.localStorage, items = {}; \"\n",
    "            \"for (var i = 0, k; i < ls.length; ++i) \"\n",
    "            \"  items[k = ls.key(i)] = ls.getItem(k); \"\n",
    "            \"return items; \")\n",
    "\n",
    "    def keys(self):\n",
    "        self.driver.execute_script(self.recreate_localStorage_script)\n",
    "        return self.driver.execute_script(\n",
    "            \"var ls = window.localStorage, keys = []; \"\n",
    "            \"for (var i = 0; i < ls.length; ++i) \"\n",
    "            \"  keys[i] = ls.key(i); \"\n",
    "            \"return keys; \")\n",
    "\n",
    "    def get(self, key):\n",
    "        self.driver.execute_script(self.recreate_localStorage_script)\n",
    "        return self.driver.execute_script(\"return window.localStorage.getItem(arguments[0]);\", key)\n",
    "\n",
    "    def set(self, key, value):\n",
    "        self.driver.execute_script(self.recreate_localStorage_script)\n",
    "        self.driver.execute_script(\"window.localStorage.setItem(arguments[0], arguments[1]);\", key, value)\n",
    "\n",
    "    def has(self, key):\n",
    "        return key in self.keys()\n",
    "\n",
    "    def remove(self, key):\n",
    "        self.driver.execute_script(self.recreate_localStorage_script)\n",
    "        self.driver.execute_script(\"window.localStorage.removeItem(arguments[0]);\", key)"
   ],
   "metadata": {
    "collapsed": false,
    "ExecuteTime": {
     "end_time": "2023-09-12T11:50:55.568446300Z",
     "start_time": "2023-09-12T11:50:55.536928400Z"
    }
   }
  },
  {
   "cell_type": "code",
   "execution_count": 4,
   "outputs": [],
   "source": [
    "home = 'https://discord.com/login?redirect_to=%2Fdevelopers%2Fapplications'\n",
    "driver.get(home)\n",
    "localstorage = LocalStorage(driver)"
   ],
   "metadata": {
    "collapsed": false,
    "ExecuteTime": {
     "end_time": "2023-09-12T11:50:57.810355700Z",
     "start_time": "2023-09-12T11:50:55.561446800Z"
    }
   }
  },
  {
   "cell_type": "code",
   "execution_count": 5,
   "outputs": [],
   "source": [
    "email = WebDriverWait(driver, 30).until(lambda x: driver.find_element(By.XPATH, '/html/body/div[2]/div[2]/div[1]/div[1]/div/div[2]/div/div/div/form/div[2]/div/div[1]/div[2]/div[1]/div/div[2]/input'))\n",
    "driver.implicitly_wait(3)  # wait 3 more sec for everything to load\n",
    "password = driver.find_element(By.XPATH, '/html/body/div[2]/div[2]/div[1]/div[1]/div/div[2]/div/div/div/form/div[2]/div/div[1]/div[2]/div[2]/div/input')\n",
    "email.send_keys('email')\n",
    "password.send_keys('password')\n",
    "driver.find_element(By.XPATH, '/html/body/div[2]/div[2]/div[1]/div[1]/div/div[2]/div/div/div/form/div[2]/div/div[1]/div[2]/button[2]').click()"
   ],
   "metadata": {
    "collapsed": false,
    "ExecuteTime": {
     "end_time": "2023-09-12T11:50:58.296354400Z",
     "start_time": "2023-09-12T11:50:57.811354300Z"
    }
   }
  },
  {
   "cell_type": "code",
   "execution_count": 6,
   "outputs": [],
   "source": [
    "import pickle\n",
    "with open('localstorage.pkl', 'wb+') as f:\n",
    "    pickle.dump(localstorage.items(), f)"
   ],
   "metadata": {
    "collapsed": false,
    "ExecuteTime": {
     "end_time": "2023-09-12T11:51:57.494611600Z",
     "start_time": "2023-09-12T11:51:57.455226Z"
    }
   }
  },
  {
   "cell_type": "code",
   "execution_count": 12,
   "outputs": [],
   "source": [
    "all_applications_div = driver.find_element(By.XPATH, '/html/body/div[1]/div/div/div[1]/div[3]/div[2]/div/div[1]/div[2]/div[2]/div[2]')\n",
    "apps_str = []\n",
    "apps_link = []\n",
    "app_ids = []\n",
    "for app_div in all_applications_div.find_elements(By.XPATH, '//*[@id=\"app-mount\"]/div/div/div[1]/div[3]/div[2]/div/div[1]/div[2]/div[2]/div[2]/div'):\n",
    "    apps_str.append(app_div.find_element(By.TAG_NAME, 'abbr').text)\n",
    "    apps_link.append(app_div.find_element(By.TAG_NAME, 'a').get_property('href') + '/bot')\n",
    "    app_ids.append(app_div.find_element(By.TAG_NAME, 'a').get_property('href').split('/')[-1])"
   ],
   "metadata": {
    "collapsed": false,
    "ExecuteTime": {
     "end_time": "2023-07-05T04:39:12.836708600Z",
     "start_time": "2023-07-05T04:39:12.337490300Z"
    }
   }
  },
  {
   "cell_type": "code",
   "execution_count": 13,
   "outputs": [],
   "source": [
    "driver.get(apps_link[0])\n",
    "driver.find_element(By.XPATH, '/html/body/div[1]/div/div/div[1]/div[3]/div[2]/div/div[1]/div[2]/form/div[1]/div[1]/div[2]/div/div[2]/div/div[2]/button').click()  # reset button\n",
    "driver.find_element(By.XPATH, '/html/body/div[4]/div/footer/button[2]').click()  # confirm button\n",
    "token_div = driver.find_element(By.XPATH, '/html/body/div[1]/div/div/div[1]/div[3]/div[2]/div/div[1]/div[2]/form/div[1]/div[1]/div[2]/div/div[2]/div')\n",
    "new_token = token_div.text.split('\\n')[2]"
   ],
   "metadata": {
    "collapsed": false
   }
  },
  {
   "cell_type": "code",
   "execution_count": 19,
   "outputs": [
    {
     "data": {
      "text/plain": "['https://discord.com/developers/applications/1125982166371794995/bot',\n 'https://discord.com/developers/applications/1125982203030020227/bot',\n 'https://discord.com/developers/applications/1125982229869383821/bot',\n 'https://discord.com/developers/applications/1125982259036573796/bot',\n 'https://discord.com/developers/applications/1125982290644844655/bot',\n 'https://discord.com/developers/applications/1125982327957372949/bot',\n 'https://discord.com/developers/applications/1125982358793887836/bot',\n 'https://discord.com/developers/applications/1125982385670987806/bot',\n 'https://discord.com/developers/applications/1125982415463137351/bot',\n 'https://discord.com/developers/applications/1125982452985380894/bot']"
     },
     "execution_count": 19,
     "metadata": {},
     "output_type": "execute_result"
    }
   ],
   "source": [
    "apps_link"
   ],
   "metadata": {
    "collapsed": false,
    "ExecuteTime": {
     "end_time": "2023-07-05T04:51:00.069131200Z",
     "start_time": "2023-07-05T04:51:00.052844200Z"
    }
   }
  }
 ],
 "metadata": {
  "kernelspec": {
   "display_name": "Python 3",
   "language": "python",
   "name": "python3"
  },
  "language_info": {
   "codemirror_mode": {
    "name": "ipython",
    "version": 2
   },
   "file_extension": ".py",
   "mimetype": "text/x-python",
   "name": "python",
   "nbconvert_exporter": "python",
   "pygments_lexer": "ipython2",
   "version": "2.7.6"
  }
 },
 "nbformat": 4,
 "nbformat_minor": 0
}
